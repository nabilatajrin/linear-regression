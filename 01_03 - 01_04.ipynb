{
 "cells": [
  {
   "cell_type": "markdown",
   "metadata": {},
   "source": [
    "## Foundations: Clean Data\n",
    "\n",
    "Using the Titanic dataset from [this](https://www.kaggle.com/c/titanic/overview) Kaggle competition.\n",
    "\n",
    "This dataset contains information about 891 people who were on board the ship when departed on April 15th, 1912. As noted in the description on Kaggle's website, some people aboard the ship were more likely to survive the wreck than others. There were not enough lifeboats for everybody so women, children, and the upper-class were prioritized. Using the information about these 891 passengers, the challenge is to build a model to predict which people would survive based on the following fields:\n",
    "\n",
    "- **Name** (str) - Name of the passenger\n",
    "- **Pclass** (int) - Ticket class\n",
    "- **Sex** (str) - Sex of the passenger\n",
    "- **Age** (float) - Age in years\n",
    "- **SibSp** (int) - Number of siblings and spouses aboard\n",
    "- **Parch** (int) - Number of parents and children aboard\n",
    "- **Ticket** (str) - Ticket number\n",
    "- **Fare** (float) - Passenger fare\n",
    "- **Cabin** (str) - Cabin number\n",
    "- **Embarked** (str) - Port of embarkation (C = Cherbourg, Q = Queenstown, S = Southampton)\n",
    "\n",
    "![Clean Data](../../img/clean_data.png)"
   ]
  },
  {
   "cell_type": "markdown",
   "metadata": {},
   "source": [
    "### Read in Data"
   ]
  },
  {
   "cell_type": "code",
   "execution_count": 1,
   "metadata": {},
   "outputs": [
    {
     "data": {
      "text/html": [
       "<div>\n",
       "<style>\n",
       "    .dataframe thead tr:only-child th {\n",
       "        text-align: right;\n",
       "    }\n",
       "\n",
       "    .dataframe thead th {\n",
       "        text-align: left;\n",
       "    }\n",
       "\n",
       "    .dataframe tbody tr th {\n",
       "        vertical-align: top;\n",
       "    }\n",
       "</style>\n",
       "<table border=\"1\" class=\"dataframe\">\n",
       "  <thead>\n",
       "    <tr style=\"text-align: right;\">\n",
       "      <th></th>\n",
       "      <th>TV</th>\n",
       "      <th>Radio</th>\n",
       "      <th>Newspaper</th>\n",
       "      <th>Sales</th>\n",
       "    </tr>\n",
       "  </thead>\n",
       "  <tbody>\n",
       "    <tr>\n",
       "      <th>0</th>\n",
       "      <td>230.1</td>\n",
       "      <td>37.8</td>\n",
       "      <td>69.2</td>\n",
       "      <td>22.1</td>\n",
       "    </tr>\n",
       "    <tr>\n",
       "      <th>1</th>\n",
       "      <td>44.5</td>\n",
       "      <td>39.3</td>\n",
       "      <td>45.1</td>\n",
       "      <td>10.4</td>\n",
       "    </tr>\n",
       "    <tr>\n",
       "      <th>2</th>\n",
       "      <td>17.2</td>\n",
       "      <td>45.9</td>\n",
       "      <td>69.3</td>\n",
       "      <td>12.0</td>\n",
       "    </tr>\n",
       "    <tr>\n",
       "      <th>3</th>\n",
       "      <td>151.5</td>\n",
       "      <td>41.3</td>\n",
       "      <td>58.5</td>\n",
       "      <td>16.5</td>\n",
       "    </tr>\n",
       "    <tr>\n",
       "      <th>4</th>\n",
       "      <td>180.8</td>\n",
       "      <td>10.8</td>\n",
       "      <td>58.4</td>\n",
       "      <td>17.9</td>\n",
       "    </tr>\n",
       "  </tbody>\n",
       "</table>\n",
       "</div>"
      ],
      "text/plain": [
       "      TV  Radio  Newspaper  Sales\n",
       "0  230.1   37.8       69.2   22.1\n",
       "1   44.5   39.3       45.1   10.4\n",
       "2   17.2   45.9       69.3   12.0\n",
       "3  151.5   41.3       58.5   16.5\n",
       "4  180.8   10.8       58.4   17.9"
      ]
     },
     "execution_count": 1,
     "metadata": {},
     "output_type": "execute_result"
    }
   ],
   "source": [
    "import pandas as pd\n",
    "data = pd.read_csv(\"/media/user/A/github/ml-projects/linear-regression-advertising-dataset/input/advertising.csv\")\n",
    "data.head()"
   ]
  },
  {
   "cell_type": "markdown",
   "metadata": {},
   "source": [
    "### Clean continuous variables"
   ]
  },
  {
   "cell_type": "markdown",
   "metadata": {},
   "source": [
    "#### Fill missing for `Age`"
   ]
  },
  {
   "cell_type": "code",
   "execution_count": 2,
   "metadata": {},
   "outputs": [],
   "source": [
    "def predict_sales(radio, weight, bias):\n",
    "    return weight*radio + bias"
   ]
  },
  {
   "cell_type": "code",
   "execution_count": 3,
   "metadata": {},
   "outputs": [],
   "source": [
    "def cost_function(radio, sales, weight, bias):\n",
    "    companies = len(radio)\n",
    "    total_error = 0.0\n",
    "    for i in range(companies):\n",
    "        total_error += (sales[i] - (weight*radio[i] + bias))**2\n",
    "    return total_error / companies"
   ]
  },
  {
   "cell_type": "markdown",
   "metadata": {},
   "source": [
    "#### Combine `SibSp` & `Parch`"
   ]
  },
  {
   "cell_type": "code",
   "execution_count": 4,
   "metadata": {},
   "outputs": [],
   "source": [
    "def update_weights(radio, sales, weight, bias, learning_rate):\n",
    "    weight_deriv = 0\n",
    "    bias_deriv = 0\n",
    "    companies = len(radio)\n",
    "\n",
    "    for i in range(companies):\n",
    "        # Calculate partial derivatives\n",
    "        # -2x(y - (mx + b))\n",
    "        weight_deriv += -2*radio[i] * (sales[i] - (weight*radio[i] + bias))\n",
    "\n",
    "        # -2(y - (mx + b))\n",
    "        bias_deriv += -2*(sales[i] - (weight*radio[i] + bias))\n",
    "\n",
    "    # We subtract because the derivatives point in direction of steepest ascent\n",
    "    weight -= (weight_deriv / companies) * learning_rate\n",
    "    bias -= (bias_deriv / companies) * learning_rate\n",
    "\n",
    "    return weight, bias"
   ]
  },
  {
   "cell_type": "code",
   "execution_count": 5,
   "metadata": {},
   "outputs": [],
   "source": [
    "def train(radio, sales, weight, bias, learning_rate, iters):\n",
    "    cost_history = []\n",
    "\n",
    "    for i in range(iters):\n",
    "        weight,bias = update_weights(radio, sales, weight, bias, learning_rate)\n",
    "\n",
    "        #Calculate cost for auditing purposes\n",
    "        cost = cost_function(radio, sales, weight, bias)\n",
    "        cost_history.append(cost)\n",
    "\n",
    "        # Log Progress\n",
    "        if i % 10 == 0:\n",
    "            print(\"iter={:d}    weight={:.2f}    bias={:.4f}    cost={:.2}\".format(i, weight, bias, cost))\n",
    "\n",
    "    return weight, bias, cost_history"
   ]
  },
  {
   "cell_type": "markdown",
   "metadata": {},
   "source": [
    "#### Drop unnnecessary variables"
   ]
  },
  {
   "cell_type": "code",
   "execution_count": 6,
   "metadata": {},
   "outputs": [
    {
     "name": "stdout",
     "output_type": "stream",
     "text": [
      "iter=0    weight=7.59    bias=0.3026    cost=3.8e+04\n",
      "iter=10    weight=2405173039799.18    bias=73599287290.5942    cost=4.4e+27\n",
      "iter=20    weight=815974020723917184827392.00    bias=24969141670289308909568.0000    cost=5.1e+50\n",
      "iter=30    weight=276825655152063131060260668006465536.00    bias=8470979254131427124399864041963520.0000    cost=5.8e+73\n",
      "iter=40    weight=93915298041452327294731439888541830077428531200.00    bias=2873846865521575588505351860423181092761108480.0000    cost=6.7e+96\n",
      "iter=50    weight=31861509372640639389418406280951599831087152017021203382272.00    bias=974975331504933409782714414364953867539709003923550371840.0000    cost=7.7e+119\n",
      "iter=60    weight=10809269636292856088171973252592657331885255059040396045391077683757056.00    bias=330768110314963329617902546569290030461484127346338398066860529549312.0000    cost=8.9e+142\n",
      "iter=70    weight=3667130414430807992123323032464152800471756619739632767020847353568919970574761984.00    bias=112215703583448187380655398930486377923178599878651046772591909302535373451165696.0000    cost=1e+166\n",
      "iter=80    weight=1244103064215495172460555930276457043944203421873038932341450357342950699739056083185900191744.00    bias=38070067028945683515670789204672320414737788491970854562416599568640836965313512469237334016.0000    cost=1.2e+189\n",
      "iter=90    weight=422071827142975599211959064351080090544911897482541646784448822863269008614659147381005175280085961277440.00    bias=12915572039439462603598556492929799995921815084888149595916987741353389463307119662796837843021672218624.0000    cost=1.4e+212\n"
     ]
    },
    {
     "data": {
      "text/plain": [
       "(-1.006614932547681e+115,\n",
       " -3.08028322224193e+113,\n",
       " [38364.16330524686,\n",
       "  7749556.174937002,\n",
       "  1568119390.2759905,\n",
       "  317310985414.3346,\n",
       "  64208290697878.26,\n",
       "  1.2992631155844442e+16,\n",
       "  2.629075817425043e+18,\n",
       "  5.3199691200807895e+20,\n",
       "  1.0765026725753641e+23,\n",
       "  2.1783171629468084e+25,\n",
       "  4.4078531185034627e+27,\n",
       "  8.919348130194725e+29,\n",
       "  1.804841697960622e+32,\n",
       "  3.652120656295389e+34,\n",
       "  7.390113661054424e+36,\n",
       "  1.4953991136399633e+39,\n",
       "  3.0259595611633992e+41,\n",
       "  6.123068538878864e+43,\n",
       "  1.2390108847784284e+46,\n",
       "  2.5071546445248688e+48,\n",
       "  5.0732600405578486e+50,\n",
       "  1.0265807693724723e+53,\n",
       "  2.0772995423461308e+55,\n",
       "  4.203442649007765e+57,\n",
       "  8.505720885848681e+59,\n",
       "  1.7211436869500366e+62,\n",
       "  3.482756642128388e+64,\n",
       "  7.047403375010331e+66,\n",
       "  1.4260512414027028e+69,\n",
       "  2.8856332394954074e+71,\n",
       "  5.839116401378538e+73,\n",
       "  1.1815528003416633e+76,\n",
       "  2.3908874631539007e+78,\n",
       "  4.837991886451058e+80,\n",
       "  9.789739523118512e+82,\n",
       "  1.9809665286729534e+85,\n",
       "  4.00851154257525e+87,\n",
       "  8.111275255984789e+89,\n",
       "  1.6413271005846424e+92,\n",
       "  3.3212467412271506e+94,\n",
       "  6.72058598933925e+96,\n",
       "  1.3599193182321308e+99,\n",
       "  2.7518144326024296e+101,\n",
       "  5.568332304686364e+103,\n",
       "  1.1267592860936686e+106,\n",
       "  2.280012074225203e+108,\n",
       "  4.613634094496883e+110,\n",
       "  9.335748612268796e+112,\n",
       "  1.889100877233381e+115,\n",
       "  3.822620201741535e+117,\n",
       "  7.735121709414826e+119,\n",
       "  1.5652119410712531e+122,\n",
       "  3.167226725715444e+124,\n",
       "  6.408924484195165e+126,\n",
       "  1.296854207203556e+129,\n",
       "  2.6242013599771242e+131,\n",
       "  5.310105592019634e+133,\n",
       "  1.0745067748400203e+136,\n",
       "  2.1742784379132836e+138,\n",
       "  4.399680705855472e+140,\n",
       "  8.902811146880761e+142,\n",
       "  1.8014954178729035e+145,\n",
       "  3.645349415003752e+147,\n",
       "  7.376411966208904e+149,\n",
       "  1.4926265578624607e+152,\n",
       "  3.0203492584774657e+154,\n",
       "  6.111716018405443e+156,\n",
       "  1.236713687491328e+159,\n",
       "  2.502506235928545e+161,\n",
       "  5.0638539252887256e+163,\n",
       "  1.0246774297106782e+166,\n",
       "  2.0734481097785953e+168,\n",
       "  4.195649225101323e+170,\n",
       "  8.489950791183793e+172,\n",
       "  1.717952587778153e+175,\n",
       "  3.476299411438796e+177,\n",
       "  7.034337084703228e+179,\n",
       "  1.423407260560191e+182,\n",
       "  2.8802831098631505e+184,\n",
       "  5.828290344464013e+186,\n",
       "  1.1793621336406197e+189,\n",
       "  2.3864546205843982e+191,\n",
       "  4.829021971841669e+193,\n",
       "  9.771588784210384e+195,\n",
       "  1.977293703041307e+198,\n",
       "  4.0010795321272097e+200,\n",
       "  8.096236486154853e+202,\n",
       "  1.6382839859445508e+205,\n",
       "  3.315088959162878e+207,\n",
       "  6.708125637221213e+209,\n",
       "  1.3573979497704827e+212,\n",
       "  2.7467124107179997e+214,\n",
       "  5.55800829702738e+216,\n",
       "  1.1246702097126388e+219,\n",
       "  2.2757848009899042e+221,\n",
       "  4.6050801521096507e+223,\n",
       "  9.318439598563912e+225,\n",
       "  1.8855983757916632e+228,\n",
       "  3.815532844507684e+230,\n",
       "  7.720780349847649e+232])"
      ]
     },
     "execution_count": 6,
     "metadata": {},
     "output_type": "execute_result"
    }
   ],
   "source": [
    "radio = data['Radio'].values\n",
    "sales = data['Sales'].values\n",
    "weight = 0\n",
    "bias = 0\n",
    "lr = 0.01\n",
    "iters = 100\n",
    "train(radio,sales,weight,bias,lr,iters)"
   ]
  },
  {
   "cell_type": "code",
   "execution_count": 7,
   "metadata": {},
   "outputs": [
    {
     "ename": "NameError",
     "evalue": "name 'titanic' is not defined",
     "output_type": "error",
     "traceback": [
      "\u001b[0;31m---------------------------------------------------------------------------\u001b[0m",
      "\u001b[0;31mNameError\u001b[0m                                 Traceback (most recent call last)",
      "\u001b[0;32m<ipython-input-7-cdd760b19866>\u001b[0m in \u001b[0;36m<module>\u001b[0;34m\u001b[0m\n\u001b[0;32m----> 1\u001b[0;31m \u001b[0mtitanic\u001b[0m\u001b[0;34m.\u001b[0m\u001b[0mhead\u001b[0m\u001b[0;34m(\u001b[0m\u001b[0;34m)\u001b[0m\u001b[0;34m\u001b[0m\u001b[0m\n\u001b[0m",
      "\u001b[0;31mNameError\u001b[0m: name 'titanic' is not defined"
     ]
    }
   ],
   "source": [
    "titanic.head()"
   ]
  },
  {
   "cell_type": "markdown",
   "metadata": {},
   "source": [
    "### Clean categorical variables"
   ]
  },
  {
   "cell_type": "markdown",
   "metadata": {},
   "source": [
    "#### Fill in missing & create indicator for `Cabin`"
   ]
  },
  {
   "cell_type": "code",
   "execution_count": null,
   "metadata": {},
   "outputs": [],
   "source": [
    "titanic.isnull().sum()"
   ]
  },
  {
   "cell_type": "code",
   "execution_count": null,
   "metadata": {},
   "outputs": [],
   "source": [
    "titanic.groupby()"
   ]
  },
  {
   "cell_type": "code",
   "execution_count": null,
   "metadata": {},
   "outputs": [],
   "source": []
  },
  {
   "cell_type": "markdown",
   "metadata": {},
   "source": [
    "#### Convert `Sex` to numeric"
   ]
  },
  {
   "cell_type": "code",
   "execution_count": null,
   "metadata": {},
   "outputs": [],
   "source": [
    "gender_num = {'male': 0, 'female': 1}"
   ]
  },
  {
   "cell_type": "markdown",
   "metadata": {},
   "source": [
    "#### Drop unnecessary variables"
   ]
  },
  {
   "cell_type": "code",
   "execution_count": null,
   "metadata": {},
   "outputs": [],
   "source": [
    "titanic.drop(['Cabin', 'Embarked', 'Name', 'Ticket'], axis=1, inplace=True)"
   ]
  },
  {
   "cell_type": "markdown",
   "metadata": {},
   "source": [
    "### Write out cleaned data"
   ]
  },
  {
   "cell_type": "code",
   "execution_count": null,
   "metadata": {},
   "outputs": [],
   "source": [
    "titanic.to_csv('../../../titanic_cleaned.csv', index=False)"
   ]
  },
  {
   "cell_type": "code",
   "execution_count": null,
   "metadata": {},
   "outputs": [],
   "source": []
  }
 ],
 "metadata": {
  "kernelspec": {
   "display_name": "Python 3",
   "language": "python",
   "name": "python3"
  },
  "language_info": {
   "codemirror_mode": {
    "name": "ipython",
    "version": 3
   },
   "file_extension": ".py",
   "mimetype": "text/x-python",
   "name": "python",
   "nbconvert_exporter": "python",
   "pygments_lexer": "ipython3",
   "version": "3.6.3"
  }
 },
 "nbformat": 4,
 "nbformat_minor": 2
}
